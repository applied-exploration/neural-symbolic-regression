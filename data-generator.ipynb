{
 "metadata": {
  "language_info": {
   "name": "python",
   "version": "3.9.2",
   "mimetype": "text/x-python",
   "codemirror_mode": {
    "name": "ipython",
    "version": 3
   },
   "pygments_lexer": "ipython3",
   "nbconvert_exporter": "python",
   "file_extension": ".py"
  },
  "orig_nbformat": 4,
  "kernelspec": {
   "name": "python3",
   "display_name": "Python 3.9.2 64-bit ('deeplearning': conda)"
  },
  "interpreter": {
   "hash": "a630840cc17be2676cbce8189d2083744dc2f6895f9cfddc5644aa2e06831cd0"
  }
 },
 "nbformat": 4,
 "nbformat_minor": 2,
 "cells": [
  {
   "cell_type": "code",
   "execution_count": 134,
   "source": [
    "import pandas as pd\n",
    "from utils import generate_random_eq, is_eq_valid\n",
    "from lis import eval_lisp, parse\n",
    "\n",
    "%load_ext autoreload\n",
    "%autoreload 2"
   ],
   "outputs": [
    {
     "output_type": "stream",
     "name": "stdout",
     "text": [
      "The autoreload extension is already loaded. To reload it, use:\n",
      "  %reload_ext autoreload\n"
     ]
    }
   ],
   "metadata": {}
  },
  {
   "cell_type": "code",
   "execution_count": 135,
   "source": [
    "symbols = [\"*\", \"+\", \"-\"]\n",
    "# generate_random_eq(symbols, 3)"
   ],
   "outputs": [],
   "metadata": {}
  },
  {
   "cell_type": "code",
   "execution_count": 136,
   "source": [
    "eqs = list(set([generate_random_eq(symbols, 3) for i in range(0, 20000)]))\n",
    "len(eqs)"
   ],
   "outputs": [
    {
     "output_type": "execute_result",
     "data": {
      "text/plain": [
       "9117"
      ]
     },
     "metadata": {},
     "execution_count": 136
    }
   ],
   "metadata": {}
  },
  {
   "cell_type": "code",
   "execution_count": 137,
   "source": [
    "ts = [1,2,3,5,10]\n",
    "\n",
    "\n",
    "eqs = [eq for eq in eqs if is_eq_valid(eq, ts) == True]\n",
    "len(eqs)"
   ],
   "outputs": [
    {
     "output_type": "execute_result",
     "data": {
      "text/plain": [
       "8660"
      ]
     },
     "metadata": {},
     "execution_count": 137
    }
   ],
   "metadata": {
    "tags": []
   }
  },
  {
   "cell_type": "code",
   "execution_count": 138,
   "source": [
    "# because we need to wrap int casting into a try-catch block, we can't use array comprehensionran\n",
    "X = []\n",
    "for fun in eqs:\n",
    "    int_seq = []\n",
    "    for i in range(1, 10):\n",
    "        try:\n",
    "            int_seq.append(int(eval_lisp(parse(fun.replace('t', str(i))))))\n",
    "        except:\n",
    "            pass\n",
    "    X.append(int_seq)\n",
    "len(X)"
   ],
   "outputs": [
    {
     "output_type": "execute_result",
     "data": {
      "text/plain": [
       "8660"
      ]
     },
     "metadata": {},
     "execution_count": 138
    }
   ],
   "metadata": {}
  },
  {
   "cell_type": "code",
   "execution_count": 139,
   "source": [
    "data = pd.DataFrame(X)\n",
    "data['eqs'] = eqs\n",
    "data.dropna(inplace = True)\n",
    "data[0] = data[0].astype(int)\n",
    "data[1] = data[1].astype(int)\n",
    "data[2] = data[2].astype(int)\n",
    "data[3] = data[3].astype(int)\n",
    "data[4] = data[4].astype(int)\n",
    "data[5] = data[5].astype(int)\n",
    "data[6] = data[6].astype(int)\n",
    "data[7] = data[7].astype(int)\n",
    "data[8] = data[8].astype(int)\n",
    "\n",
    "data.shape[0]"
   ],
   "outputs": [
    {
     "output_type": "execute_result",
     "data": {
      "text/plain": [
       "8660"
      ]
     },
     "metadata": {},
     "execution_count": 139
    }
   ],
   "metadata": {}
  },
  {
   "cell_type": "code",
   "execution_count": 140,
   "source": [
    "data"
   ],
   "outputs": [
    {
     "output_type": "execute_result",
     "data": {
      "text/plain": [
       "       0   1   2   3   4   5   6    7    8                        eqs\n",
       "0     -1  -6 -11 -16 -21 -26 -31  -36  -41  ( - 8 ( + 4 ( * 5 t ) ) )\n",
       "1     -4  -8 -12 -16 -20 -24 -28  -32  -36  ( - 2 ( + 2 ( * 4 t ) ) )\n",
       "2     48  32  16   0 -16 -32 -48  -64  -80  ( * 8 ( * 2 ( - 4 t ) ) )\n",
       "3     50  43  36  29  22  15   8    1   -6  ( + 1 ( * 7 ( - 8 t ) ) )\n",
       "4      6  10  12  12  10   6   0   -8  -18  ( * 1 ( * t ( - 7 t ) ) )\n",
       "...   ..  ..  ..  ..  ..  ..  ..  ...  ...                        ...\n",
       "8655   3  -3 -13 -27 -45 -67 -93 -123 -157  ( - 5 ( * t ( + t t ) ) )\n",
       "8656  -9 -18 -27 -36 -45 -54 -63  -72  -81  ( * 9 ( - t ( + t t ) ) )\n",
       "8657  25  20  15  10   5   0  -5  -10  -15  ( * 5 ( - 6 ( * 1 t ) ) )\n",
       "8658   6  12  18  24  30  36  42   48   54  ( + t ( * 5 ( * 1 t ) ) )\n",
       "8659   3  -5 -15 -27 -41 -57 -75  -95 -117  ( - 9 ( * t ( + 5 t ) ) )\n",
       "\n",
       "[8660 rows x 10 columns]"
      ],
      "text/html": [
       "<div>\n",
       "<style scoped>\n",
       "    .dataframe tbody tr th:only-of-type {\n",
       "        vertical-align: middle;\n",
       "    }\n",
       "\n",
       "    .dataframe tbody tr th {\n",
       "        vertical-align: top;\n",
       "    }\n",
       "\n",
       "    .dataframe thead th {\n",
       "        text-align: right;\n",
       "    }\n",
       "</style>\n",
       "<table border=\"1\" class=\"dataframe\">\n",
       "  <thead>\n",
       "    <tr style=\"text-align: right;\">\n",
       "      <th></th>\n",
       "      <th>0</th>\n",
       "      <th>1</th>\n",
       "      <th>2</th>\n",
       "      <th>3</th>\n",
       "      <th>4</th>\n",
       "      <th>5</th>\n",
       "      <th>6</th>\n",
       "      <th>7</th>\n",
       "      <th>8</th>\n",
       "      <th>eqs</th>\n",
       "    </tr>\n",
       "  </thead>\n",
       "  <tbody>\n",
       "    <tr>\n",
       "      <th>0</th>\n",
       "      <td>-1</td>\n",
       "      <td>-6</td>\n",
       "      <td>-11</td>\n",
       "      <td>-16</td>\n",
       "      <td>-21</td>\n",
       "      <td>-26</td>\n",
       "      <td>-31</td>\n",
       "      <td>-36</td>\n",
       "      <td>-41</td>\n",
       "      <td>( - 8 ( + 4 ( * 5 t ) ) )</td>\n",
       "    </tr>\n",
       "    <tr>\n",
       "      <th>1</th>\n",
       "      <td>-4</td>\n",
       "      <td>-8</td>\n",
       "      <td>-12</td>\n",
       "      <td>-16</td>\n",
       "      <td>-20</td>\n",
       "      <td>-24</td>\n",
       "      <td>-28</td>\n",
       "      <td>-32</td>\n",
       "      <td>-36</td>\n",
       "      <td>( - 2 ( + 2 ( * 4 t ) ) )</td>\n",
       "    </tr>\n",
       "    <tr>\n",
       "      <th>2</th>\n",
       "      <td>48</td>\n",
       "      <td>32</td>\n",
       "      <td>16</td>\n",
       "      <td>0</td>\n",
       "      <td>-16</td>\n",
       "      <td>-32</td>\n",
       "      <td>-48</td>\n",
       "      <td>-64</td>\n",
       "      <td>-80</td>\n",
       "      <td>( * 8 ( * 2 ( - 4 t ) ) )</td>\n",
       "    </tr>\n",
       "    <tr>\n",
       "      <th>3</th>\n",
       "      <td>50</td>\n",
       "      <td>43</td>\n",
       "      <td>36</td>\n",
       "      <td>29</td>\n",
       "      <td>22</td>\n",
       "      <td>15</td>\n",
       "      <td>8</td>\n",
       "      <td>1</td>\n",
       "      <td>-6</td>\n",
       "      <td>( + 1 ( * 7 ( - 8 t ) ) )</td>\n",
       "    </tr>\n",
       "    <tr>\n",
       "      <th>4</th>\n",
       "      <td>6</td>\n",
       "      <td>10</td>\n",
       "      <td>12</td>\n",
       "      <td>12</td>\n",
       "      <td>10</td>\n",
       "      <td>6</td>\n",
       "      <td>0</td>\n",
       "      <td>-8</td>\n",
       "      <td>-18</td>\n",
       "      <td>( * 1 ( * t ( - 7 t ) ) )</td>\n",
       "    </tr>\n",
       "    <tr>\n",
       "      <th>...</th>\n",
       "      <td>...</td>\n",
       "      <td>...</td>\n",
       "      <td>...</td>\n",
       "      <td>...</td>\n",
       "      <td>...</td>\n",
       "      <td>...</td>\n",
       "      <td>...</td>\n",
       "      <td>...</td>\n",
       "      <td>...</td>\n",
       "      <td>...</td>\n",
       "    </tr>\n",
       "    <tr>\n",
       "      <th>8655</th>\n",
       "      <td>3</td>\n",
       "      <td>-3</td>\n",
       "      <td>-13</td>\n",
       "      <td>-27</td>\n",
       "      <td>-45</td>\n",
       "      <td>-67</td>\n",
       "      <td>-93</td>\n",
       "      <td>-123</td>\n",
       "      <td>-157</td>\n",
       "      <td>( - 5 ( * t ( + t t ) ) )</td>\n",
       "    </tr>\n",
       "    <tr>\n",
       "      <th>8656</th>\n",
       "      <td>-9</td>\n",
       "      <td>-18</td>\n",
       "      <td>-27</td>\n",
       "      <td>-36</td>\n",
       "      <td>-45</td>\n",
       "      <td>-54</td>\n",
       "      <td>-63</td>\n",
       "      <td>-72</td>\n",
       "      <td>-81</td>\n",
       "      <td>( * 9 ( - t ( + t t ) ) )</td>\n",
       "    </tr>\n",
       "    <tr>\n",
       "      <th>8657</th>\n",
       "      <td>25</td>\n",
       "      <td>20</td>\n",
       "      <td>15</td>\n",
       "      <td>10</td>\n",
       "      <td>5</td>\n",
       "      <td>0</td>\n",
       "      <td>-5</td>\n",
       "      <td>-10</td>\n",
       "      <td>-15</td>\n",
       "      <td>( * 5 ( - 6 ( * 1 t ) ) )</td>\n",
       "    </tr>\n",
       "    <tr>\n",
       "      <th>8658</th>\n",
       "      <td>6</td>\n",
       "      <td>12</td>\n",
       "      <td>18</td>\n",
       "      <td>24</td>\n",
       "      <td>30</td>\n",
       "      <td>36</td>\n",
       "      <td>42</td>\n",
       "      <td>48</td>\n",
       "      <td>54</td>\n",
       "      <td>( + t ( * 5 ( * 1 t ) ) )</td>\n",
       "    </tr>\n",
       "    <tr>\n",
       "      <th>8659</th>\n",
       "      <td>3</td>\n",
       "      <td>-5</td>\n",
       "      <td>-15</td>\n",
       "      <td>-27</td>\n",
       "      <td>-41</td>\n",
       "      <td>-57</td>\n",
       "      <td>-75</td>\n",
       "      <td>-95</td>\n",
       "      <td>-117</td>\n",
       "      <td>( - 9 ( * t ( + 5 t ) ) )</td>\n",
       "    </tr>\n",
       "  </tbody>\n",
       "</table>\n",
       "<p>8660 rows × 10 columns</p>\n",
       "</div>"
      ]
     },
     "metadata": {},
     "execution_count": 140
    }
   ],
   "metadata": {}
  },
  {
   "cell_type": "code",
   "execution_count": 142,
   "source": [
    "from sklearn.model_selection import train_test_split\n",
    "train, test = train_test_split(data, test_size=0.6)"
   ],
   "outputs": [],
   "metadata": {}
  },
  {
   "cell_type": "code",
   "execution_count": 143,
   "source": [
    "train.to_csv('./data/train.csv')"
   ],
   "outputs": [],
   "metadata": {}
  },
  {
   "cell_type": "code",
   "execution_count": null,
   "source": [
    "test.to_csv('./data/test.csv')"
   ],
   "outputs": [],
   "metadata": {}
  },
  {
   "cell_type": "code",
   "execution_count": null,
   "source": [],
   "outputs": [],
   "metadata": {}
  }
 ]
}